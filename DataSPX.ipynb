{
  "nbformat": 4,
  "nbformat_minor": 0,
  "metadata": {
    "colab": {
      "provenance": [],
      "authorship_tag": "ABX9TyNXI3yixf26pFJ1ae4CcttD",
      "include_colab_link": true
    },
    "kernelspec": {
      "name": "python3",
      "display_name": "Python 3"
    },
    "language_info": {
      "name": "python"
    }
  },
  "cells": [
    {
      "cell_type": "markdown",
      "metadata": {
        "id": "view-in-github",
        "colab_type": "text"
      },
      "source": [
        "<a href=\"https://colab.research.google.com/github/untamedbeast1/WhoAmI/blob/main/DataSPX.ipynb\" target=\"_parent\"><img src=\"https://colab.research.google.com/assets/colab-badge.svg\" alt=\"Open In Colab\"/></a>"
      ]
    },
    {
      "cell_type": "code",
      "source": [
        "from alpha_vantage.timeseries import TimeSeries\n",
        "\n",
        "api_key = \"HJLVE8KONYGV62HV\"\n",
        "\n",
        "ts = TimeSeries(key=api_key, output_format='pandas')\n",
        "\n",
        "# get_daily returns a tuple: (DataFrame, metadata). We only need the DataFrame\n",
        "data, meta_data = ts.get_daily(symbol='SPY', outputsize='full')\n",
        "\n",
        "\n",
        "# Calculate the percentage change between opening and closing price for each day\n",
        "data['% Change'] = (data['4. close'] / data['1. open'] - 1) * 100\n",
        "\n",
        "\n",
        "# Handle the first row (NaN due to no previous day)\n",
        "data.loc[0, '% Change'] = 0\n",
        "\n",
        "data = data.reset_index()  # Reset the index to make 'date' a column\n",
        "\n",
        "# Export the data to a CSV file\n",
        "data.to_csv('spy_data.csv', index=False)\n",
        "\n",
        "# Print the data with the added percentage change column\n",
        "print(data)"
      ],
      "metadata": {
        "colab": {
          "base_uri": "https://localhost:8080/"
        },
        "id": "QQUTVAsDIGPR",
        "outputId": "7621606c-4e15-45b9-d038-95ea321f97ce"
      },
      "execution_count": 12,
      "outputs": [
        {
          "output_type": "stream",
          "name": "stdout",
          "text": [
            "                     date   1. open   2. high    3. low  4. close   5. volume  \\\n",
            "0     2024-10-11 00:00:00  576.0500  580.3300  575.9100  579.5800  42267994.0   \n",
            "1     2024-10-10 00:00:00  575.7700  577.5800  574.4900  576.1300  44138060.0   \n",
            "2     2024-10-09 00:00:00  573.1600  577.7100  572.5500  577.1400  37912244.0   \n",
            "3     2024-10-08 00:00:00  570.4200  573.7800  569.5299  573.1700  37398693.0   \n",
            "4     2024-10-07 00:00:00  571.3000  571.9599  566.6300  567.8000  49964690.0   \n",
            "...                   ...       ...       ...       ...       ...         ...   \n",
            "6273  1999-11-04 00:00:00  136.7500  137.3593  135.7656  136.5312   7907500.0   \n",
            "6274  1999-11-03 00:00:00  136.0000  136.3750  135.1250  135.5000   7222300.0   \n",
            "6275  1999-11-02 00:00:00  135.9687  137.2500  134.5937  134.5937   6516900.0   \n",
            "6276  1999-11-01 00:00:00  136.5000  137.0000  135.5625  135.5625   4006500.0   \n",
            "6277                    0       NaN       NaN       NaN       NaN         NaN   \n",
            "\n",
            "      % Change  \n",
            "0     0.612794  \n",
            "1     0.062525  \n",
            "2     0.694396  \n",
            "3     0.482101  \n",
            "4    -0.612638  \n",
            "...        ...  \n",
            "6273 -0.160000  \n",
            "6274 -0.367647  \n",
            "6275 -1.011262  \n",
            "6276 -0.686813  \n",
            "6277  0.000000  \n",
            "\n",
            "[6278 rows x 7 columns]\n"
          ]
        }
      ]
    }
  ]
}